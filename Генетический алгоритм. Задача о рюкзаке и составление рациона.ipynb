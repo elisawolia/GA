{
 "cells": [
  {
   "cell_type": "markdown",
   "metadata": {},
   "source": [
    "# Генетический алгоритм. Практическая реализация\n",
    "## Выполнила: Воляница Елизавета Петровна, группа 4410"
   ]
  },
  {
   "cell_type": "markdown",
   "metadata": {},
   "source": [
    "### Часть 1. Реализация генетического алгоритма на примере задачи о рюкзаке"
   ]
  },
  {
   "cell_type": "code",
   "execution_count": 1,
   "metadata": {},
   "outputs": [],
   "source": [
    "# Импорт необходимых библиотек\n",
    "\n",
    "from random import choices, randint, randrange, random\n",
    "from typing import List, Optional, Callable, Tuple\n",
    "from collections import namedtuple\n",
    "from functools import partial\n",
    "import time"
   ]
  },
  {
   "cell_type": "code",
   "execution_count": 2,
   "metadata": {},
   "outputs": [],
   "source": [
    "# Объявление объектов и функций, с которыми будем работать\n",
    "\n",
    "Genome = List[int] # Геном - закодированное представление рюкзака\n",
    "Population = List[Genome] # Популяция - набор геномов\n",
    "FitnessFunc = Callable[[Genome], int] # Проверка полученного решения\n",
    "PopulateFunc = Callable[[], Population] # Генерация популяции. Шаг инициализации\n",
    "SelectionFunc = Callable[[Population, FitnessFunc], Tuple[Genome, Genome]] # Функция селекции\n",
    "CrossoverFunc = Callable[[Genome, Genome], Tuple[Genome, Genome]] # Функция скрещивания\n",
    "MutationFunc = Callable[[Genome], Genome] # Функция мутации\n",
    "\n",
    "# Объект вещи, с которым будем работать\n",
    "\n",
    "Thing = namedtuple('Thing', ['name', 'value', 'weight'])"
   ]
  },
  {
   "cell_type": "code",
   "execution_count": 3,
   "metadata": {},
   "outputs": [],
   "source": [
    "# Генерация случайного генома определенной длины\n",
    "\n",
    "def generate_genome(length: int) -> Genome:\n",
    "    return choices([0, 1], k=length)"
   ]
  },
  {
   "cell_type": "code",
   "execution_count": 4,
   "metadata": {},
   "outputs": [],
   "source": [
    "# Генерация популяции\n",
    "\n",
    "def generate_population(size: int, genome_length: int) -> Population:\n",
    "    return [generate_genome(genome_length) for _ in range(size)]"
   ]
  },
  {
   "cell_type": "code",
   "execution_count": 5,
   "metadata": {},
   "outputs": [],
   "source": [
    "# Проверка ценности набора вещей. Проверка полученного решения\n",
    "\n",
    "def fitness(genome: Genome, things: [Thing], weight_limit: int) -> int:\n",
    "    if len(genome) != len(things):\n",
    "        raise ValueError(\"Геном и список вещей должны быть одной длины\")\n",
    "        \n",
    "    weight = 0\n",
    "    value = 0\n",
    "    \n",
    "    for i, thing in enumerate(things):\n",
    "        if genome[i] == 1:\n",
    "            weight += thing.weight\n",
    "            value += thing.value\n",
    "            \n",
    "            if weight > weight_limit:\n",
    "                return 0\n",
    "    return value"
   ]
  },
  {
   "cell_type": "code",
   "execution_count": 6,
   "metadata": {},
   "outputs": [],
   "source": [
    "# Отбор лучших вариантов среди популяции\n",
    "\n",
    "def selection_pair(population: Population, fitness_func: FitnessFunc) -> Population:\n",
    "    return choices(\n",
    "        population=population,\n",
    "        weights=[fitness_func(gene) for gene in population],\n",
    "        k=2\n",
    "    )"
   ]
  },
  {
   "cell_type": "code",
   "execution_count": 7,
   "metadata": {},
   "outputs": [],
   "source": [
    "# Случайное скрещивание геномов\n",
    "\n",
    "def single_point_crossover(a: Genome, b: Genome) -> Tuple[Genome, Genome]:\n",
    "    if len(a) != len(b):\n",
    "        raise ValueError(\"Геномы должны быть одной длины\")\n",
    "\n",
    "    length = len(a)\n",
    "    if length < 2:\n",
    "        return a, b\n",
    "\n",
    "    p = randint(1, length - 1)\n",
    "    return a[0:p] + b[p:], b[0:p] + a[p:]"
   ]
  },
  {
   "cell_type": "code",
   "execution_count": 8,
   "metadata": {},
   "outputs": [],
   "source": [
    "# Случайная мутация геномов\n",
    "\n",
    "def mutation(genome: Genome, num: int = 1, probability: float = 0.5) -> Genome:\n",
    "    for _ in range(num):\n",
    "        index = randrange(len(genome))\n",
    "        genome[index] = genome[index] if random() > probability else abs(genome[index] - 1)\n",
    "    return genome"
   ]
  },
  {
   "cell_type": "code",
   "execution_count": 9,
   "metadata": {},
   "outputs": [],
   "source": [
    "# Объединение всех методов в один алгоритм\n",
    "\n",
    "def run_evolution(\n",
    "    population_func: PopulateFunc,\n",
    "    fitness_func: FitnessFunc,\n",
    "    fitness_limit: int,\n",
    "    selection_func: SelectionFunc = selection_pair, \n",
    "    crossover_func: CrossoverFunc = single_point_crossover,\n",
    "    mutation_func: MutationFunc = mutation,\n",
    "    generation_limit: int = 100\n",
    ") -> Tuple[Population, int]:\n",
    "    # Инициализация\n",
    "    population = population_func()\n",
    "    \n",
    "    # Повторяется до ограничения на количество поколений\n",
    "    for i in range(generation_limit):\n",
    "        # Сортируется, чтоб лучшие популции были в начале\n",
    "        population = sorted(population, key=lambda genome: fitness_func(genome), reverse=True)\n",
    "        \n",
    "        # Если качество популяции лучше, чем заданное, то алгоритм завершается\n",
    "        if fitness_func(population[0]) >= fitness_limit:\n",
    "            return population, i\n",
    "\n",
    "        # В новое поколение передаем две лучшие популции\n",
    "        next_generation = population[0:2]\n",
    "\n",
    "        for j in range(int(len(population) / 2) - 1):\n",
    "            parents = selection_func(population, fitness_func)\n",
    "            offspring_a, offspring_b = crossover_func(parents[0], parents[1])\n",
    "            offspring_a = mutation_func(offspring_a)\n",
    "            offspring_b = mutation_func(offspring_b)\n",
    "            next_generation += [offspring_a, offspring_b]\n",
    "\n",
    "        population = next_generation\n",
    "\n",
    "    return population, i"
   ]
  },
  {
   "cell_type": "markdown",
   "metadata": {},
   "source": [
    "### Добавляем утилиты для вывода ответов и работой с объектами"
   ]
  },
  {
   "cell_type": "code",
   "execution_count": 10,
   "metadata": {},
   "outputs": [],
   "source": [
    "def to_string(things: [Thing]):\n",
    "    return f\"[{', '.join([t.name for t in things])}]\"\n",
    "\n",
    "\n",
    "def value(things: [Thing]):\n",
    "    return sum([t.value for t in things])\n",
    "\n",
    "\n",
    "def weight(things: [Thing]):\n",
    "    return sum([p.weight for p in things])\n",
    "\n",
    "\n",
    "def print_stats(things: [Thing]):\n",
    "    print(f\"Лучший результат: {to_string(things)}\")\n",
    "    print(f\"Ценность: {value(things)}\")\n",
    "    print(f\"Вес: {weight(things)}\")\n",
    "\n",
    "def genome_to_list(genome: Genome, things: [Thing]) -> [Thing]:\n",
    "    result = []\n",
    "    for i, thing in enumerate(things):\n",
    "        if genome[i] == 1:\n",
    "            result += [thing]\n",
    "    \n",
    "    return result"
   ]
  },
  {
   "cell_type": "markdown",
   "metadata": {},
   "source": [
    "### Проверка алгоритма на маленьком количестве объектов"
   ]
  },
  {
   "cell_type": "code",
   "execution_count": 11,
   "metadata": {},
   "outputs": [],
   "source": [
    "# Список объектов\n",
    "\n",
    "easy_example = [\n",
    "    Thing('Ноутбук', 500, 2200),\n",
    "    Thing('Наушники', 150, 160),\n",
    "    Thing('Чашка', 60, 350),\n",
    "    Thing('Записная книжка', 40, 333),\n",
    "    Thing('Бутылка воды', 30, 192),\n",
    "]"
   ]
  },
  {
   "cell_type": "code",
   "execution_count": 12,
   "metadata": {},
   "outputs": [],
   "source": [
    "population, generations = run_evolution(\n",
    "    population_func=partial(\n",
    "        generate_population, size=15, genome_length=len(easy_example)\n",
    "    ),\n",
    "    fitness_func=partial(\n",
    "        fitness, things=easy_example, weight_limit=3000\n",
    "    ),\n",
    "    fitness_limit=740,\n",
    "    generation_limit=100\n",
    ")"
   ]
  },
  {
   "cell_type": "code",
   "execution_count": 13,
   "metadata": {},
   "outputs": [
    {
     "name": "stdout",
     "output_type": "stream",
     "text": [
      "Количество поколений: 15\n",
      "Лучший результат: [Ноутбук, Наушники, Чашка, Бутылка воды]\n",
      "Ценность: 740\n",
      "Вес: 2902\n"
     ]
    }
   ],
   "source": [
    "# Вывод результатов\n",
    "results = genome_to_list(population[0], easy_example)\n",
    "\n",
    "print(f\"Количество поколений: {generations}\")\n",
    "print_stats(results)"
   ]
  },
  {
   "cell_type": "markdown",
   "metadata": {},
   "source": [
    "### Часть 2. Сравнение различных алгоритмов"
   ]
  },
  {
   "cell_type": "markdown",
   "metadata": {},
   "source": [
    "### Перебор"
   ]
  },
  {
   "cell_type": "code",
   "execution_count": 14,
   "metadata": {},
   "outputs": [],
   "source": [
    "def bruteforce(things: [Thing], weight_limit: int) -> Tuple[Population, int]:\n",
    "    if len(things) == 0:\n",
    "        return 0, []\n",
    "\n",
    "    max_value = 0\n",
    "    max_valued_packed = []\n",
    "    for i, thing in enumerate(things):\n",
    "        if thing.weight > weight_limit:\n",
    "            continue\n",
    "\n",
    "        value, packed = bruteforce(things[i + 1:], weight_limit - thing.weight)\n",
    "        if value + thing.value >= max_value:\n",
    "            max_value = value + thing.value\n",
    "            max_valued_packed = [thing] + packed\n",
    "\n",
    "    return max_value, max_valued_packed"
   ]
  },
  {
   "cell_type": "markdown",
   "metadata": {},
   "source": [
    "### Жадный алгоритм"
   ]
  },
  {
   "cell_type": "code",
   "execution_count": 15,
   "metadata": {},
   "outputs": [],
   "source": [
    "def gredy(things: [Thing], weight_limit: int) -> Tuple[Population, int]:\n",
    "    if len(things) == 0:\n",
    "        return 0, []\n",
    "\n",
    "    total_weight = 0\n",
    "    max_valued_packed = []\n",
    "    things = sorted(things, key=lambda thing: thing.value, reverse=True)\n",
    "    for i, thing in enumerate(things):\n",
    "        if thing.weight > weight_limit:\n",
    "             continue\n",
    "\n",
    "        if total_weight + thing.weight <= weight_limit:\n",
    "            total_weight += thing.weight\n",
    "            max_valued_packed += [thing]\n",
    "\n",
    "    return max_valued_packed"
   ]
  },
  {
   "cell_type": "markdown",
   "metadata": {},
   "source": [
    "#### Проверка на большем количестве объектов"
   ]
  },
  {
   "cell_type": "code",
   "execution_count": 16,
   "metadata": {},
   "outputs": [],
   "source": [
    "hard_example = [\n",
    "    Thing('1', 5, 25),\n",
    "    Thing('2', 10, 38),\n",
    "    Thing('3', 15, 80),\n",
    "    Thing('4', 500, 200),\n",
    "    Thing('5', 100, 23),\n",
    "    Thing('6', 120, 365),\n",
    "    Thing('7', 340, 570),\n",
    "    Thing('8', 480, 340),\n",
    "    Thing('9', 84, 170),\n",
    "    Thing('10', 12, 20),\n",
    "    Thing('11', 28, 1400),\n",
    "    Thing('12', 450, 700),\n",
    "    Thing('13', 512, 2600),\n",
    "    Thing('14', 100, 23),\n",
    "    Thing('15', 120, 365),\n",
    "    Thing('16', 340, 570),\n",
    "    Thing('17', 480, 340),\n",
    "    Thing('18', 84, 170),\n",
    "    Thing('19', 12, 20),\n",
    "    Thing('20', 28, 1400),\n",
    "    Thing('21', 450, 700),\n",
    "    Thing('22', 512, 2600),\n",
    "    Thing('23', 90, 1800),\n",
    "    Thing('24', 560, 2900),\n",
    "    Thing('25', 256, 256),\n",
    "    Thing('26', 124, 340),\n",
    "    Thing('27', 8, 2)\n",
    "]"
   ]
  },
  {
   "cell_type": "code",
   "execution_count": 17,
   "metadata": {},
   "outputs": [
    {
     "name": "stdout",
     "output_type": "stream",
     "text": [
      "Лучший результат: [1, 2, 4, 5, 7, 8, 10, 12, 14, 16, 17, 18, 19, 21, 25, 27]\n",
      "Ценность: 3627\n",
      "Вес: 3997\n",
      "Время выполнения: 6.518315076828003\n"
     ]
    }
   ],
   "source": [
    "# Перебор\n",
    "\n",
    "start_bruteforce = time.time()\n",
    "population_bruteforce = bruteforce(\n",
    "    things = hard_example,\n",
    "    weight_limit=4000\n",
    ")\n",
    "end_bruteforce = time.time()\n",
    "\n",
    "print_stats(population_bruteforce[1])\n",
    "print(f\"Время выполнения: {end_bruteforce - start_bruteforce}\")"
   ]
  },
  {
   "cell_type": "code",
   "execution_count": 18,
   "metadata": {},
   "outputs": [
    {
     "name": "stdout",
     "output_type": "stream",
     "text": [
      "Лучший результат: [24, 4, 8, 17, 5, 14, 9, 27]\n",
      "Ценность: 2312\n",
      "Вес: 3998\n",
      "Время выполнения: 0.00011301040649414062\n"
     ]
    }
   ],
   "source": [
    "# Жадный алгоритм\n",
    "\n",
    "start_gredy = time.time()\n",
    "population_gredy = gredy(\n",
    "    things = hard_example,\n",
    "    weight_limit=4000\n",
    ")\n",
    "end_gredy = time.time()\n",
    "\n",
    "print_stats(population_gredy)\n",
    "print(f\"Время выполнения: {end_gredy - start_gredy}\")"
   ]
  },
  {
   "cell_type": "code",
   "execution_count": 50,
   "metadata": {},
   "outputs": [
    {
     "name": "stdout",
     "output_type": "stream",
     "text": [
      "Найдено лучшее решение\n",
      "Лучший результат: [1, 2, 4, 5, 7, 8, 10, 12, 14, 16, 17, 18, 19, 21, 25, 27]\n",
      "Ценность: 3627\n",
      "Вес: 3997\n",
      "Время выполнения: 0.26531100273132324\n"
     ]
    }
   ],
   "source": [
    "# Генетический алгоритм\n",
    "\n",
    "# Задаем максимальное количество поколений\n",
    "generation_limit = 500\n",
    "\n",
    "start_evolution = time.time()\n",
    "population, generations = run_evolution(\n",
    "    population_func=partial(\n",
    "        generate_population, size=15, genome_length=len(hard_example)\n",
    "    ),\n",
    "    fitness_func=partial(\n",
    "        fitness, things=hard_example, weight_limit=4000\n",
    "    ),\n",
    "    fitness_limit=population_bruteforce[0],\n",
    "    generation_limit=generation_limit\n",
    ")\n",
    "end_evolution = time.time()\n",
    "\n",
    "\n",
    "results = genome_to_list(population[0], hard_example)\n",
    "if generations == generation_limit:\n",
    "    print(\"Для нахождения оптимального решения перезапустите ячейку либо увеличьте количество поколений\")\n",
    "else:\n",
    "    print(\"Найдено лучшее решение\")\n",
    "print_stats(results)\n",
    "print(f\"Время выполнения: {end_evolution - start_evolution}\")"
   ]
  },
  {
   "cell_type": "markdown",
   "metadata": {},
   "source": [
    "##### Вывод\n",
    "Как мы видим, генетический алгоритм - это самый оптимальный алгоритм для решения данной оптимизационной задачи. Он превосходит жадный алгоритм по качеству результата, а алгоритм перебора по времени выполнения. Однако, основная проблема генетического алгоритма заключается в случайности начальной инициализации - если выбраны не оптимальные или не близкие к оптимальным значения, то алгоритм может найти лишь локальный максимум. "
   ]
  },
  {
   "cell_type": "markdown",
   "metadata": {},
   "source": [
    "### Часть 3. Анализ точности алгоритма и времени выполнения на большом количестве данных"
   ]
  },
  {
   "cell_type": "markdown",
   "metadata": {},
   "source": [
    "Проверка точности и времени выполнения будет проведена в условиях полной вместимости рюкзака. Идеальное решение должно помещать в себя все предложенные объекты. Также, для визуализации эффективности генетического алгоритма будет проводиться сравнение с алгоритмом перебора. Жадный алгоритм не рассматриваем, так как в таких условиях он будет лучшим выбором. "
   ]
  },
  {
   "cell_type": "code",
   "execution_count": 20,
   "metadata": {},
   "outputs": [],
   "source": [
    "full_weight_bruteforce = 0;\n",
    "accuracy_bruteforce = []\n",
    "time_bruteforce = []\n",
    "\n",
    "for i in range(1, 28):\n",
    "    full_weight_bruteforce += i\n",
    "    things = []\n",
    "    for j in range(1, i + 1):\n",
    "        things += [Thing(j, j, j)]\n",
    "    \n",
    "    start = time.time()\n",
    "    res = bruteforce(\n",
    "        things = things,\n",
    "        weight_limit=full_weight_bruteforce\n",
    "    )\n",
    "    end = time.time()\n",
    "\n",
    "    accuracy_bruteforce += [int(len(res[1]) / i * 100)]\n",
    "    time_bruteforce += [end - start]"
   ]
  },
  {
   "cell_type": "code",
   "execution_count": 23,
   "metadata": {},
   "outputs": [],
   "source": [
    "full_weight_evolution = 0;\n",
    "accuracy_evolution = []\n",
    "time_evolution = []\n",
    "\n",
    "for i in range(1, 28):\n",
    "    full_weight_evolution += i\n",
    "    things = []\n",
    "    for j in range(1, i + 1):\n",
    "        things += [Thing(j, j, j)]\n",
    "    \n",
    "    start = time.time()\n",
    "    res_2, gen_2 = run_evolution(\n",
    "        population_func=partial(\n",
    "            generate_population, size=12, genome_length=len(things)\n",
    "        ),\n",
    "            fitness_func=partial(\n",
    "            fitness, things=things, weight_limit=3000\n",
    "        ),\n",
    "        fitness_limit=full_weight_evolution,\n",
    "        generation_limit=100\n",
    "    )\n",
    "    end = time.time()\n",
    "    \n",
    "    things_list = genome_to_list(res_2[0], things)\n",
    "    \n",
    "    accuracy_evolution += [int(len(things_list) / i * 100)]\n",
    "    time_evolution += [end - start]"
   ]
  },
  {
   "cell_type": "markdown",
   "metadata": {},
   "source": [
    "#### Строим графики"
   ]
  },
  {
   "cell_type": "code",
   "execution_count": 24,
   "metadata": {},
   "outputs": [],
   "source": [
    "# Импорт необходимой библиотеки\n",
    "\n",
    "import matplotlib.pyplot as plt"
   ]
  },
  {
   "cell_type": "code",
   "execution_count": 25,
   "metadata": {},
   "outputs": [
    {
     "data": {
      "image/png": "[encoded data removed]",
      "text/plain": [
       "<Figure size 432x288 with 1 Axes>"
      ]
     },
     "metadata": {
      "needs_background": "light"
     },
     "output_type": "display_data"
    }
   ],
   "source": [
    "plt.plot(time_evolution, label = \"Генетический алгоритм\")\n",
    "plt.plot(time_bruteforce, label = \"Перебор\")\n",
    "plt.legend()\n",
    "plt.show()"
   ]
  },
  {
   "cell_type": "code",
   "execution_count": 26,
   "metadata": {},
   "outputs": [
    {
     "data": {
      "image/png": "[encoded data removed]",
      "text/plain": [
       "<Figure size 432x288 with 1 Axes>"
      ]
     },
     "metadata": {
      "needs_background": "light"
     },
     "output_type": "display_data"
    }
   ],
   "source": [
    "plt.plot(accuracy_bruteforce, label = \"Перебор\")\n",
    "plt.plot(accuracy_evolution, label = \"Генетический алгоритм\")\n",
    "plt.legend()\n",
    "plt.show()"
   ]
  },
  {
   "cell_type": "markdown",
   "metadata": {},
   "source": [
    "Рассмотрим, как меняется качество и время выполнения генетического алгоритма в зависимости от размера популяций"
   ]
  },
  {
   "cell_type": "code",
   "execution_count": 28,
   "metadata": {},
   "outputs": [],
   "source": [
    "# Размер популяции - 5\n",
    "\n",
    "full_weight_evolution = 0;\n",
    "accuracy_evolution_5 = []\n",
    "time_evolution_5 = []\n",
    "\n",
    "for i in range(1, 100):\n",
    "    full_weight_evolution += i\n",
    "    things = []\n",
    "    for j in range(1, i + 1):\n",
    "        things += [Thing(j, j, j)]\n",
    "    \n",
    "    start = time.time()\n",
    "    res_2, gen_2 = run_evolution(\n",
    "        population_func=partial(\n",
    "            generate_population, size=5, genome_length=len(things)\n",
    "        ),\n",
    "            fitness_func=partial(\n",
    "            fitness, things=things, weight_limit=3000\n",
    "        ),\n",
    "        fitness_limit=full_weight_evolution,\n",
    "        generation_limit=100\n",
    "    )\n",
    "    end = time.time()\n",
    "    \n",
    "    things_list = genome_to_list(res_2[0], things)\n",
    "    \n",
    "    accuracy_evolution_5 += [int(len(things_list) / i * 100)]\n",
    "    time_evolution_5 += [end - start]"
   ]
  },
  {
   "cell_type": "code",
   "execution_count": 29,
   "metadata": {},
   "outputs": [],
   "source": [
    "# Размер популяции - 15\n",
    "\n",
    "full_weight_evolution = 0;\n",
    "accuracy_evolution_15 = []\n",
    "time_evolution_15 = []\n",
    "\n",
    "for i in range(1, 100):\n",
    "    full_weight_evolution += i\n",
    "    things = []\n",
    "    for j in range(1, i + 1):\n",
    "        things += [Thing(j, j, j)]\n",
    "    \n",
    "    start = time.time()\n",
    "    res_2, gen_2 = run_evolution(\n",
    "        population_func=partial(\n",
    "            generate_population, size=15, genome_length=len(things)\n",
    "        ),\n",
    "            fitness_func=partial(\n",
    "            fitness, things=things, weight_limit=3000\n",
    "        ),\n",
    "        fitness_limit=full_weight_evolution,\n",
    "        generation_limit=100\n",
    "    )\n",
    "    end = time.time()\n",
    "    \n",
    "    things_list = genome_to_list(res_2[0], things)\n",
    "    \n",
    "    accuracy_evolution_15 += [int(len(things_list) / i * 100)]\n",
    "    time_evolution_15 += [end - start]"
   ]
  },
  {
   "cell_type": "code",
   "execution_count": 30,
   "metadata": {},
   "outputs": [],
   "source": [
    "# Размер популяции - 30\n",
    "\n",
    "full_weight_evolution = 0;\n",
    "accuracy_evolution_30 = []\n",
    "time_evolution_30 = []\n",
    "\n",
    "for i in range(1, 100):\n",
    "    full_weight_evolution += i\n",
    "    things = []\n",
    "    for j in range(1, i + 1):\n",
    "        things += [Thing(j, j, j)]\n",
    "    \n",
    "    start = time.time()\n",
    "    res_2, gen_2 = run_evolution(\n",
    "        population_func=partial(\n",
    "            generate_population, size=30, genome_length=len(things)\n",
    "        ),\n",
    "            fitness_func=partial(\n",
    "            fitness, things=things, weight_limit=3000\n",
    "        ),\n",
    "        fitness_limit=full_weight_evolution,\n",
    "        generation_limit=100\n",
    "    )\n",
    "    end = time.time()\n",
    "    \n",
    "    things_list = genome_to_list(res_2[0], things)\n",
    "    \n",
    "    accuracy_evolution_30 += [int(len(things_list) / i * 100)]\n",
    "    time_evolution_30 += [end - start]"
   ]
  },
  {
   "cell_type": "code",
   "execution_count": 31,
   "metadata": {},
   "outputs": [
    {
     "data": {
      "image/png": "[encoded data removed]",
      "text/plain": [
       "<Figure size 432x288 with 1 Axes>"
      ]
     },
     "metadata": {
      "needs_background": "light"
     },
     "output_type": "display_data"
    }
   ],
   "source": [
    "plt.plot(accuracy_evolution_5, label = \"Популяция = 5\")\n",
    "plt.plot(accuracy_evolution_15, label = \"Популяция = 15\")\n",
    "plt.plot(accuracy_evolution_30, label = \"Популяция = 30\")\n",
    "plt.legend()\n",
    "plt.show()"
   ]
  },
  {
   "cell_type": "code",
   "execution_count": 32,
   "metadata": {},
   "outputs": [
    {
     "data": {
      "image/png": "[encoded data removed]",
      "text/plain": [
       "<Figure size 432x288 with 1 Axes>"
      ]
     },
     "metadata": {
      "needs_background": "light"
     },
     "output_type": "display_data"
    }
   ],
   "source": [
    "plt.plot(time_evolution_5, label = \"Популяция = 5\")\n",
    "plt.plot(time_evolution_15, label = \"Популяция = 15\")\n",
    "plt.plot(time_evolution_30, label = \"Популяция = 30\")\n",
    "plt.legend()\n",
    "plt.show()"
   ]
  },
  {
   "cell_type": "markdown",
   "metadata": {},
   "source": [
    "#### Вывод\n",
    "По графикам видно, что алгорит имеет свой предел качества. При увеличении размера популяции сначала качество растет, а с какого-то момента (размера популяции равного 15) качество не сильно изменяется. Однако, при этом время выполнения алгоритма при увеличении размера популяции значительно возрастает."
   ]
  },
  {
   "cell_type": "markdown",
   "metadata": {},
   "source": [
    "### Часть 4. Применение генетического алгоритма в реальной задаче"
   ]
  },
  {
   "cell_type": "markdown",
   "metadata": {},
   "source": [
    "Составление оптимальной диеты на основе данных с kaggle. Баланс основных элементов в основном меню."
   ]
  },
  {
   "cell_type": "code",
   "execution_count": 167,
   "metadata": {},
   "outputs": [],
   "source": [
    "import os\n",
    "import pandas as pd\n",
    "import numpy as np"
   ]
  },
  {
   "cell_type": "code",
   "execution_count": 168,
   "metadata": {},
   "outputs": [],
   "source": [
    "# Загружаем датасет с блюдами\n",
    "\n",
    "food_table = pd.read_csv('epi_r.csv')"
   ]
  },
  {
   "cell_type": "code",
   "execution_count": 173,
   "metadata": {},
   "outputs": [
    {
     "data": {
      "text/html": [
       "<div>\n",
       "<style scoped>\n",
       "    .dataframe tbody tr th:only-of-type {\n",
       "        vertical-align: middle;\n",
       "    }\n",
       "\n",
       "    .dataframe tbody tr th {\n",
       "        vertical-align: top;\n",
       "    }\n",
       "\n",
       "    .dataframe thead th {\n",
       "        text-align: right;\n",
       "    }\n",
       "</style>\n",
       "<table border=\"1\" class=\"dataframe\">\n",
       "  <thead>\n",
       "    <tr style=\"text-align: right;\">\n",
       "      <th></th>\n",
       "      <th>title</th>\n",
       "      <th>rating</th>\n",
       "      <th>calories</th>\n",
       "      <th>protein</th>\n",
       "      <th>fat</th>\n",
       "      <th>sodium</th>\n",
       "      <th>#cakeweek</th>\n",
       "      <th>#wasteless</th>\n",
       "      <th>22-minute meals</th>\n",
       "      <th>3-ingredient recipes</th>\n",
       "      <th>...</th>\n",
       "      <th>yellow squash</th>\n",
       "      <th>yogurt</th>\n",
       "      <th>yonkers</th>\n",
       "      <th>yuca</th>\n",
       "      <th>zucchini</th>\n",
       "      <th>cookbooks</th>\n",
       "      <th>leftovers</th>\n",
       "      <th>snack</th>\n",
       "      <th>snack week</th>\n",
       "      <th>turkey</th>\n",
       "    </tr>\n",
       "  </thead>\n",
       "  <tbody>\n",
       "    <tr>\n",
       "      <th>0</th>\n",
       "      <td>Lentil, Apple, and Turkey Wrap</td>\n",
       "      <td>2.500</td>\n",
       "      <td>426.0</td>\n",
       "      <td>30.0</td>\n",
       "      <td>7.0</td>\n",
       "      <td>559.0</td>\n",
       "      <td>0.0</td>\n",
       "      <td>0.0</td>\n",
       "      <td>0.0</td>\n",
       "      <td>0.0</td>\n",
       "      <td>...</td>\n",
       "      <td>0.0</td>\n",
       "      <td>0.0</td>\n",
       "      <td>0.0</td>\n",
       "      <td>0.0</td>\n",
       "      <td>0.0</td>\n",
       "      <td>0.0</td>\n",
       "      <td>0.0</td>\n",
       "      <td>0.0</td>\n",
       "      <td>0.0</td>\n",
       "      <td>1.0</td>\n",
       "    </tr>\n",
       "    <tr>\n",
       "      <th>1</th>\n",
       "      <td>Boudin Blanc Terrine with Red Onion Confit</td>\n",
       "      <td>4.375</td>\n",
       "      <td>403.0</td>\n",
       "      <td>18.0</td>\n",
       "      <td>23.0</td>\n",
       "      <td>1439.0</td>\n",
       "      <td>0.0</td>\n",
       "      <td>0.0</td>\n",
       "      <td>0.0</td>\n",
       "      <td>0.0</td>\n",
       "      <td>...</td>\n",
       "      <td>0.0</td>\n",
       "      <td>0.0</td>\n",
       "      <td>0.0</td>\n",
       "      <td>0.0</td>\n",
       "      <td>0.0</td>\n",
       "      <td>0.0</td>\n",
       "      <td>0.0</td>\n",
       "      <td>0.0</td>\n",
       "      <td>0.0</td>\n",
       "      <td>0.0</td>\n",
       "    </tr>\n",
       "    <tr>\n",
       "      <th>2</th>\n",
       "      <td>Potato and Fennel Soup Hodge</td>\n",
       "      <td>3.750</td>\n",
       "      <td>165.0</td>\n",
       "      <td>6.0</td>\n",
       "      <td>7.0</td>\n",
       "      <td>165.0</td>\n",
       "      <td>0.0</td>\n",
       "      <td>0.0</td>\n",
       "      <td>0.0</td>\n",
       "      <td>0.0</td>\n",
       "      <td>...</td>\n",
       "      <td>0.0</td>\n",
       "      <td>0.0</td>\n",
       "      <td>0.0</td>\n",
       "      <td>0.0</td>\n",
       "      <td>0.0</td>\n",
       "      <td>0.0</td>\n",
       "      <td>0.0</td>\n",
       "      <td>0.0</td>\n",
       "      <td>0.0</td>\n",
       "      <td>0.0</td>\n",
       "    </tr>\n",
       "    <tr>\n",
       "      <th>3</th>\n",
       "      <td>Mahi-Mahi in Tomato Olive Sauce</td>\n",
       "      <td>5.000</td>\n",
       "      <td>NaN</td>\n",
       "      <td>NaN</td>\n",
       "      <td>NaN</td>\n",
       "      <td>NaN</td>\n",
       "      <td>0.0</td>\n",
       "      <td>0.0</td>\n",
       "      <td>0.0</td>\n",
       "      <td>0.0</td>\n",
       "      <td>...</td>\n",
       "      <td>0.0</td>\n",
       "      <td>0.0</td>\n",
       "      <td>0.0</td>\n",
       "      <td>0.0</td>\n",
       "      <td>0.0</td>\n",
       "      <td>0.0</td>\n",
       "      <td>0.0</td>\n",
       "      <td>0.0</td>\n",
       "      <td>0.0</td>\n",
       "      <td>0.0</td>\n",
       "    </tr>\n",
       "    <tr>\n",
       "      <th>4</th>\n",
       "      <td>Spinach Noodle Casserole</td>\n",
       "      <td>3.125</td>\n",
       "      <td>547.0</td>\n",
       "      <td>20.0</td>\n",
       "      <td>32.0</td>\n",
       "      <td>452.0</td>\n",
       "      <td>0.0</td>\n",
       "      <td>0.0</td>\n",
       "      <td>0.0</td>\n",
       "      <td>0.0</td>\n",
       "      <td>...</td>\n",
       "      <td>0.0</td>\n",
       "      <td>0.0</td>\n",
       "      <td>0.0</td>\n",
       "      <td>0.0</td>\n",
       "      <td>0.0</td>\n",
       "      <td>0.0</td>\n",
       "      <td>0.0</td>\n",
       "      <td>0.0</td>\n",
       "      <td>0.0</td>\n",
       "      <td>0.0</td>\n",
       "    </tr>\n",
       "    <tr>\n",
       "      <th>...</th>\n",
       "      <td>...</td>\n",
       "      <td>...</td>\n",
       "      <td>...</td>\n",
       "      <td>...</td>\n",
       "      <td>...</td>\n",
       "      <td>...</td>\n",
       "      <td>...</td>\n",
       "      <td>...</td>\n",
       "      <td>...</td>\n",
       "      <td>...</td>\n",
       "      <td>...</td>\n",
       "      <td>...</td>\n",
       "      <td>...</td>\n",
       "      <td>...</td>\n",
       "      <td>...</td>\n",
       "      <td>...</td>\n",
       "      <td>...</td>\n",
       "      <td>...</td>\n",
       "      <td>...</td>\n",
       "      <td>...</td>\n",
       "      <td>...</td>\n",
       "    </tr>\n",
       "    <tr>\n",
       "      <th>20047</th>\n",
       "      <td>Parmesan Puffs</td>\n",
       "      <td>3.125</td>\n",
       "      <td>28.0</td>\n",
       "      <td>2.0</td>\n",
       "      <td>2.0</td>\n",
       "      <td>64.0</td>\n",
       "      <td>0.0</td>\n",
       "      <td>0.0</td>\n",
       "      <td>0.0</td>\n",
       "      <td>0.0</td>\n",
       "      <td>...</td>\n",
       "      <td>0.0</td>\n",
       "      <td>0.0</td>\n",
       "      <td>0.0</td>\n",
       "      <td>0.0</td>\n",
       "      <td>0.0</td>\n",
       "      <td>0.0</td>\n",
       "      <td>0.0</td>\n",
       "      <td>0.0</td>\n",
       "      <td>0.0</td>\n",
       "      <td>0.0</td>\n",
       "    </tr>\n",
       "    <tr>\n",
       "      <th>20048</th>\n",
       "      <td>Artichoke and Parmesan Risotto</td>\n",
       "      <td>4.375</td>\n",
       "      <td>671.0</td>\n",
       "      <td>22.0</td>\n",
       "      <td>28.0</td>\n",
       "      <td>583.0</td>\n",
       "      <td>0.0</td>\n",
       "      <td>0.0</td>\n",
       "      <td>0.0</td>\n",
       "      <td>0.0</td>\n",
       "      <td>...</td>\n",
       "      <td>0.0</td>\n",
       "      <td>0.0</td>\n",
       "      <td>0.0</td>\n",
       "      <td>0.0</td>\n",
       "      <td>0.0</td>\n",
       "      <td>0.0</td>\n",
       "      <td>0.0</td>\n",
       "      <td>0.0</td>\n",
       "      <td>0.0</td>\n",
       "      <td>0.0</td>\n",
       "    </tr>\n",
       "    <tr>\n",
       "      <th>20049</th>\n",
       "      <td>Turkey Cream Puff Pie</td>\n",
       "      <td>4.375</td>\n",
       "      <td>563.0</td>\n",
       "      <td>31.0</td>\n",
       "      <td>38.0</td>\n",
       "      <td>652.0</td>\n",
       "      <td>0.0</td>\n",
       "      <td>0.0</td>\n",
       "      <td>0.0</td>\n",
       "      <td>0.0</td>\n",
       "      <td>...</td>\n",
       "      <td>0.0</td>\n",
       "      <td>0.0</td>\n",
       "      <td>0.0</td>\n",
       "      <td>0.0</td>\n",
       "      <td>0.0</td>\n",
       "      <td>0.0</td>\n",
       "      <td>0.0</td>\n",
       "      <td>0.0</td>\n",
       "      <td>0.0</td>\n",
       "      <td>1.0</td>\n",
       "    </tr>\n",
       "    <tr>\n",
       "      <th>20050</th>\n",
       "      <td>Snapper on Angel Hair with Citrus Cream</td>\n",
       "      <td>4.375</td>\n",
       "      <td>631.0</td>\n",
       "      <td>45.0</td>\n",
       "      <td>24.0</td>\n",
       "      <td>517.0</td>\n",
       "      <td>0.0</td>\n",
       "      <td>0.0</td>\n",
       "      <td>0.0</td>\n",
       "      <td>0.0</td>\n",
       "      <td>...</td>\n",
       "      <td>0.0</td>\n",
       "      <td>0.0</td>\n",
       "      <td>0.0</td>\n",
       "      <td>0.0</td>\n",
       "      <td>0.0</td>\n",
       "      <td>0.0</td>\n",
       "      <td>0.0</td>\n",
       "      <td>0.0</td>\n",
       "      <td>0.0</td>\n",
       "      <td>0.0</td>\n",
       "    </tr>\n",
       "    <tr>\n",
       "      <th>20051</th>\n",
       "      <td>Baked Ham with Marmalade-Horseradish Glaze</td>\n",
       "      <td>4.375</td>\n",
       "      <td>560.0</td>\n",
       "      <td>73.0</td>\n",
       "      <td>10.0</td>\n",
       "      <td>3698.0</td>\n",
       "      <td>0.0</td>\n",
       "      <td>0.0</td>\n",
       "      <td>0.0</td>\n",
       "      <td>0.0</td>\n",
       "      <td>...</td>\n",
       "      <td>0.0</td>\n",
       "      <td>0.0</td>\n",
       "      <td>0.0</td>\n",
       "      <td>0.0</td>\n",
       "      <td>0.0</td>\n",
       "      <td>0.0</td>\n",
       "      <td>0.0</td>\n",
       "      <td>0.0</td>\n",
       "      <td>0.0</td>\n",
       "      <td>0.0</td>\n",
       "    </tr>\n",
       "  </tbody>\n",
       "</table>\n",
       "<p>20052 rows × 680 columns</p>\n",
       "</div>"
      ],
      "text/plain": [
       "                                             title  rating  calories  protein  \\\n",
       "0                  Lentil, Apple, and Turkey Wrap    2.500     426.0     30.0   \n",
       "1      Boudin Blanc Terrine with Red Onion Confit    4.375     403.0     18.0   \n",
       "2                    Potato and Fennel Soup Hodge    3.750     165.0      6.0   \n",
       "3                 Mahi-Mahi in Tomato Olive Sauce    5.000       NaN      NaN   \n",
       "4                        Spinach Noodle Casserole    3.125     547.0     20.0   \n",
       "...                                            ...     ...       ...      ...   \n",
       "20047                              Parmesan Puffs    3.125      28.0      2.0   \n",
       "20048              Artichoke and Parmesan Risotto    4.375     671.0     22.0   \n",
       "20049                       Turkey Cream Puff Pie    4.375     563.0     31.0   \n",
       "20050     Snapper on Angel Hair with Citrus Cream    4.375     631.0     45.0   \n",
       "20051  Baked Ham with Marmalade-Horseradish Glaze    4.375     560.0     73.0   \n",
       "\n",
       "        fat  sodium  #cakeweek  #wasteless  22-minute meals  \\\n",
       "0       7.0   559.0        0.0         0.0              0.0   \n",
       "1      23.0  1439.0        0.0         0.0              0.0   \n",
       "2       7.0   165.0        0.0         0.0              0.0   \n",
       "3       NaN     NaN        0.0         0.0              0.0   \n",
       "4      32.0   452.0        0.0         0.0              0.0   \n",
       "...     ...     ...        ...         ...              ...   \n",
       "20047   2.0    64.0        0.0         0.0              0.0   \n",
       "20048  28.0   583.0        0.0         0.0              0.0   \n",
       "20049  38.0   652.0        0.0         0.0              0.0   \n",
       "20050  24.0   517.0        0.0         0.0              0.0   \n",
       "20051  10.0  3698.0        0.0         0.0              0.0   \n",
       "\n",
       "       3-ingredient recipes  ...  yellow squash  yogurt  yonkers  yuca  \\\n",
       "0                       0.0  ...            0.0     0.0      0.0   0.0   \n",
       "1                       0.0  ...            0.0     0.0      0.0   0.0   \n",
       "2                       0.0  ...            0.0     0.0      0.0   0.0   \n",
       "3                       0.0  ...            0.0     0.0      0.0   0.0   \n",
       "4                       0.0  ...            0.0     0.0      0.0   0.0   \n",
       "...                     ...  ...            ...     ...      ...   ...   \n",
       "20047                   0.0  ...            0.0     0.0      0.0   0.0   \n",
       "20048                   0.0  ...            0.0     0.0      0.0   0.0   \n",
       "20049                   0.0  ...            0.0     0.0      0.0   0.0   \n",
       "20050                   0.0  ...            0.0     0.0      0.0   0.0   \n",
       "20051                   0.0  ...            0.0     0.0      0.0   0.0   \n",
       "\n",
       "       zucchini  cookbooks  leftovers  snack  snack week  turkey  \n",
       "0           0.0        0.0        0.0    0.0         0.0     1.0  \n",
       "1           0.0        0.0        0.0    0.0         0.0     0.0  \n",
       "2           0.0        0.0        0.0    0.0         0.0     0.0  \n",
       "3           0.0        0.0        0.0    0.0         0.0     0.0  \n",
       "4           0.0        0.0        0.0    0.0         0.0     0.0  \n",
       "...         ...        ...        ...    ...         ...     ...  \n",
       "20047       0.0        0.0        0.0    0.0         0.0     0.0  \n",
       "20048       0.0        0.0        0.0    0.0         0.0     0.0  \n",
       "20049       0.0        0.0        0.0    0.0         0.0     1.0  \n",
       "20050       0.0        0.0        0.0    0.0         0.0     0.0  \n",
       "20051       0.0        0.0        0.0    0.0         0.0     0.0  \n",
       "\n",
       "[20052 rows x 680 columns]"
      ]
     },
     "execution_count": 173,
     "metadata": {},
     "output_type": "execute_result"
    }
   ],
   "source": [
    "food_table"
   ]
  },
  {
   "cell_type": "code",
   "execution_count": 171,
   "metadata": {},
   "outputs": [
    {
     "data": {
      "text/plain": [
       "Index(['title', 'rating', 'calories', 'protein', 'fat', 'sodium', '#cakeweek',\n",
       "       '#wasteless', '22-minute meals', '3-ingredient recipes',\n",
       "       ...\n",
       "       'yellow squash', 'yogurt', 'yonkers', 'yuca', 'zucchini', 'cookbooks',\n",
       "       'leftovers', 'snack', 'snack week', 'turkey'],\n",
       "      dtype='object', length=680)"
      ]
     },
     "execution_count": 171,
     "metadata": {},
     "output_type": "execute_result"
    }
   ],
   "source": [
    "# Выводим колонны, чтоб понять, какие нам нужны\n",
    "\n",
    "food_table.columns"
   ]
  },
  {
   "cell_type": "code",
   "execution_count": 209,
   "metadata": {},
   "outputs": [
    {
     "data": {
      "text/html": [
       "<div>\n",
       "<style scoped>\n",
       "    .dataframe tbody tr th:only-of-type {\n",
       "        vertical-align: middle;\n",
       "    }\n",
       "\n",
       "    .dataframe tbody tr th {\n",
       "        vertical-align: top;\n",
       "    }\n",
       "\n",
       "    .dataframe thead th {\n",
       "        text-align: right;\n",
       "    }\n",
       "</style>\n",
       "<table border=\"1\" class=\"dataframe\">\n",
       "  <thead>\n",
       "    <tr style=\"text-align: right;\">\n",
       "      <th></th>\n",
       "      <th>title</th>\n",
       "      <th>calories</th>\n",
       "      <th>protein</th>\n",
       "      <th>fat</th>\n",
       "    </tr>\n",
       "  </thead>\n",
       "  <tbody>\n",
       "    <tr>\n",
       "      <th>0</th>\n",
       "      <td>Lentil, Apple, and Turkey Wrap</td>\n",
       "      <td>426.0</td>\n",
       "      <td>30.0</td>\n",
       "      <td>7.0</td>\n",
       "    </tr>\n",
       "    <tr>\n",
       "      <th>1</th>\n",
       "      <td>Boudin Blanc Terrine with Red Onion Confit</td>\n",
       "      <td>403.0</td>\n",
       "      <td>18.0</td>\n",
       "      <td>23.0</td>\n",
       "    </tr>\n",
       "    <tr>\n",
       "      <th>2</th>\n",
       "      <td>Potato and Fennel Soup Hodge</td>\n",
       "      <td>165.0</td>\n",
       "      <td>6.0</td>\n",
       "      <td>7.0</td>\n",
       "    </tr>\n",
       "    <tr>\n",
       "      <th>4</th>\n",
       "      <td>Spinach Noodle Casserole</td>\n",
       "      <td>547.0</td>\n",
       "      <td>20.0</td>\n",
       "      <td>32.0</td>\n",
       "    </tr>\n",
       "    <tr>\n",
       "      <th>5</th>\n",
       "      <td>The Best Blts</td>\n",
       "      <td>948.0</td>\n",
       "      <td>19.0</td>\n",
       "      <td>79.0</td>\n",
       "    </tr>\n",
       "  </tbody>\n",
       "</table>\n",
       "</div>"
      ],
      "text/plain": [
       "                                         title  calories  protein   fat\n",
       "0              Lentil, Apple, and Turkey Wrap      426.0     30.0   7.0\n",
       "1  Boudin Blanc Terrine with Red Onion Confit      403.0     18.0  23.0\n",
       "2                Potato and Fennel Soup Hodge      165.0      6.0   7.0\n",
       "4                    Spinach Noodle Casserole      547.0     20.0  32.0\n",
       "5                               The Best Blts      948.0     19.0  79.0"
      ]
     },
     "execution_count": 209,
     "metadata": {},
     "output_type": "execute_result"
    }
   ],
   "source": [
    "# Создаем новый датасет с нужными данными. Будем просчитывать меню по калориям, жирам и белкам\n",
    "\n",
    "table = food_table[['title','calories','protein','fat']].copy().dropna()\n",
    "table.head()"
   ]
  },
  {
   "cell_type": "code",
   "execution_count": 210,
   "metadata": {},
   "outputs": [
    {
     "data": {
      "text/plain": [
       "63464"
      ]
     },
     "execution_count": 210,
     "metadata": {},
     "output_type": "execute_result"
    }
   ],
   "source": [
    "table.size"
   ]
  },
  {
   "cell_type": "code",
   "execution_count": 211,
   "metadata": {},
   "outputs": [
    {
     "data": {
      "text/plain": [
       "4000"
      ]
     },
     "execution_count": 211,
     "metadata": {},
     "output_type": "execute_result"
    }
   ],
   "source": [
    "# Для простоты вызуализации немного обрежем данные\n",
    "\n",
    "table = table[:1000]\n",
    "table.size"
   ]
  },
  {
   "cell_type": "code",
   "execution_count": 212,
   "metadata": {},
   "outputs": [],
   "source": [
    "# Задаем средние значения\n",
    "\n",
    "av_calories = 1800\n",
    "av_protein = 50\n",
    "av_fat = 50"
   ]
  },
  {
   "cell_type": "code",
   "execution_count": 213,
   "metadata": {},
   "outputs": [],
   "source": [
    "Genome = List[int] # Геном - закодированное представление рюкзака\n",
    "Population = List[Genome] # Популяция - набор геномов\n",
    "FitnessFunc = Callable[[Genome], int] # Проверка полученного решения\n",
    "PopulateFunc = Callable[[], Population] # Генерация популяции. Шаг инициализации\n",
    "SelectionFunc = Callable[[Population, FitnessFunc], Tuple[Genome, Genome]] # Функция селекции\n",
    "CrossoverFunc = Callable[[Genome, Genome], Tuple[Genome, Genome]] # Функция скрещивания\n",
    "MutationFunc = Callable[[Genome], Genome] # Функция мутации\n",
    "\n",
    "# Объект продукта, с которым будем работать\n",
    "\n",
    "Plate = namedtuple('Plate', ['title', 'protein', 'fat', 'calories'])"
   ]
  },
  {
   "cell_type": "code",
   "execution_count": 214,
   "metadata": {},
   "outputs": [],
   "source": [
    "import math"
   ]
  },
  {
   "cell_type": "code",
   "execution_count": 215,
   "metadata": {},
   "outputs": [],
   "source": [
    "# Генерация генома определенной длины\n",
    "\n",
    "def generate_genome(length: int) -> Genome:\n",
    "    return [0] * length"
   ]
  },
  {
   "cell_type": "code",
   "execution_count": 216,
   "metadata": {},
   "outputs": [],
   "source": [
    "# Проверка ценности меню. Проверка полученного решения\n",
    "\n",
    "def fitness(genome: Genome, plates: [Plate], calories_limit: int) -> int:\n",
    "    if len(genome) != len(plates):\n",
    "        raise ValueError(\"Геном и список вещей должны быть одной длины\")\n",
    "        \n",
    "    calories = 0\n",
    "    protein = 0\n",
    "    fat = 0\n",
    "    \n",
    "    for i, plate in enumerate(plates):\n",
    "        if genome[i] == 1:\n",
    "            calories += plate.calories\n",
    "            protein += plate.protein\n",
    "            fat += plate.fat\n",
    "            \n",
    "            if calories > calories_limit:\n",
    "                return 10000\n",
    "    return math.sqrt((av_protein - protein)**2 + (av_fat - fat)**2)"
   ]
  },
  {
   "cell_type": "code",
   "execution_count": 241,
   "metadata": {},
   "outputs": [],
   "source": [
    "# Меняем немного метод, чтоб лучшее решение вычислялось по уменьшению ошибки\n",
    "\n",
    "def run_evolution(\n",
    "    population_func: PopulateFunc,\n",
    "    fitness_func: FitnessFunc,\n",
    "    fitness_limit: int,\n",
    "    selection_func: SelectionFunc = selection_pair, \n",
    "    crossover_func: CrossoverFunc = single_point_crossover,\n",
    "    mutation_func: MutationFunc = mutation,\n",
    "    generation_limit: int = 100\n",
    ") -> Tuple[Population, int]:\n",
    "    # Инициализация\n",
    "    population = population_func()\n",
    "    \n",
    "    # Повторяется до ограничения на количество поколений\n",
    "    for i in range(generation_limit):\n",
    "        # Сортируется, чтоб лучшие популции были в начале\n",
    "        population = sorted(population, key=lambda genome: fitness_func(genome), reverse=False)\n",
    "                \n",
    "        # Если качество популяции лучше, чем заданное, то алгоритм завершается\n",
    "        if fitness_func(population[0]) <= fitness_limit:\n",
    "            return population, i\n",
    "\n",
    "        # В новое поколение передаем две лучшие популции\n",
    "        next_generation = population[0:2]\n",
    "\n",
    "        for j in range(int(len(population) / 2) - 1):\n",
    "            parents = selection_func(population, fitness_func)\n",
    "            offspring_a, offspring_b = crossover_func(parents[0], parents[1])\n",
    "            offspring_a = mutation_func(offspring_a, probability=0.3)\n",
    "            offspring_b = mutation_func(offspring_b, probability=0.5)\n",
    "            next_generation += [offspring_a, offspring_b]\n",
    "\n",
    "        population = next_generation\n",
    "\n",
    "    return population, i"
   ]
  },
  {
   "cell_type": "code",
   "execution_count": 242,
   "metadata": {},
   "outputs": [],
   "source": [
    "# Утилиты для вывода результата\n",
    "\n",
    "def to_string(things: [Plate]):\n",
    "    return f\"[{', '.join([t.title for t in things])}]\"\n",
    "\n",
    "def fats(things: [Plate]):\n",
    "    return sum([t.fat for t in things])\n",
    "\n",
    "def protein(things: [Plate]):\n",
    "    return sum([t.protein for t in things])\n",
    "\n",
    "\n",
    "def colories(things: [Plate]):\n",
    "    return sum([p.calories for p in things])\n",
    "\n",
    "\n",
    "def print_stats(things: [Plate]):\n",
    "    print(f\"Лучший результат: {to_string(things)}\")\n",
    "    print(f\"Калории: {colories(things)}\")\n",
    "    print(f\"Белок: {protein(things)}\")\n",
    "    print(f\"Жиры: {fats(things)}\")\n",
    "\n",
    "def genome_to_list(genome: Genome, things: [Plate]) -> [Plate]:\n",
    "    result = []\n",
    "    for i, thing in enumerate(things):\n",
    "        if genome[i] == 1:\n",
    "            result += [thing]\n",
    "    \n",
    "    return result"
   ]
  },
  {
   "cell_type": "code",
   "execution_count": 243,
   "metadata": {},
   "outputs": [
    {
     "data": {
      "text/plain": [
       "Plate(title='Lentil, Apple, and Turkey Wrap ', protein=30.0, fat=7.0, calories=426.0)"
      ]
     },
     "execution_count": 243,
     "metadata": {},
     "output_type": "execute_result"
    }
   ],
   "source": [
    "# Преобразуем датасет в список объектов\n",
    "\n",
    "plates = []\n",
    "\n",
    "for value in table.values.tolist():\n",
    "    plates += [Plate(value[0], value[2], value[3], value[1])]\n",
    "    \n",
    "plates[0]"
   ]
  },
  {
   "cell_type": "code",
   "execution_count": 252,
   "metadata": {},
   "outputs": [],
   "source": [
    "population, generations = run_evolution(\n",
    "    population_func=partial(\n",
    "        generate_population, size=15, genome_length=len(plates)\n",
    "    ),\n",
    "    fitness_func=partial(\n",
    "        fitness, plates=plates, calories_limit=av_calories\n",
    "    ),\n",
    "    fitness_limit=5,\n",
    "    generation_limit=1000\n",
    ")"
   ]
  },
  {
   "cell_type": "code",
   "execution_count": 253,
   "metadata": {},
   "outputs": [
    {
     "name": "stdout",
     "output_type": "stream",
     "text": [
      "Количетсво поколений: 5\n",
      "Лучший результат: [Broccoli Rabe and Butternut Squash , Pavlova Pyatt , Beef Bone Broth , Chocolate Yogurt Cake ]\n",
      "Калории: 1228.0\n",
      "Белок: 46.0\n",
      "Жиры: 49.0\n"
     ]
    }
   ],
   "source": [
    "results = genome_to_list(population[0], plates)\n",
    "\n",
    "print(f\"Количетсво поколений: {generations}\")\n",
    "print_stats(results)"
   ]
  },
  {
   "cell_type": "markdown",
   "metadata": {},
   "source": [
    "### Выводы\n",
    "Таким образом, данный алгоритм хорошо себя показывает как на учебных, так и на реальных задачах. Работая достаточно качественно и быстро, мы способны достичь определенного приближения к нашему значению качества. "
   ]
  }
 ],
 "metadata": {
  "kernelspec": {
   "display_name": "Python 3",
   "language": "python",
   "name": "python3"
  },
  "language_info": {
   "codemirror_mode": {
    "name": "ipython",
    "version": 3
   },
   "file_extension": ".py",
   "mimetype": "text/x-python",
   "name": "python",
   "nbconvert_exporter": "python",
   "pygments_lexer": "ipython3",
   "version": "3.8.3"
  }
 },
 "nbformat": 4,
 "nbformat_minor": 4
}
